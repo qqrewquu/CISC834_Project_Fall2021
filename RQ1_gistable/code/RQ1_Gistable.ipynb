{
 "cells": [
  {
   "cell_type": "markdown",
   "metadata": {},
   "source": [
    "## Timeout function"
   ]
  },
  {
   "cell_type": "code",
   "execution_count": 26,
   "metadata": {},
   "outputs": [],
   "source": [
    "import pandas as pd \n",
    "import os \n",
    "import subprocess\n",
    "import signal\n",
    "\n",
    "class timeout:\n",
    "    \"\"\"Timeout class.\n",
    "    Taken from StackOverflow: https://stackoverflow.com/a/22348885\n",
    "    \"\"\"\n",
    "\n",
    "    def __init__(self, seconds=1, error_message='Timeout'):\n",
    "        self.seconds = seconds\n",
    "        self.error_message = error_message\n",
    "\n",
    "    def handle_timeout(self, signum, frame):\n",
    "        # logger.info('Timeout encountered')\n",
    "        # print('Timeout encountered')\n",
    "        raise TimeoutError(self.error_message)\n",
    "\n",
    "    def __enter__(self):\n",
    "        signal.signal(signal.SIGALRM, self.handle_timeout)\n",
    "        signal.alarm(self.seconds)\n",
    "\n",
    "    def __exit__(self, type, value, traceback):\n",
    "        signal.alarm(0)\n",
    "\n",
    "\n",
    "class TimeoutError(Exception):\n",
    "    def __init__(self,mess): \n",
    "        super(TimeoutError, self).__init__()\n",
    "        pass"
   ]
  },
  {
   "cell_type": "markdown",
   "metadata": {},
   "source": [
    "## Read gists have importError from csv \n",
    "\n"
   ]
  },
  {
   "cell_type": "code",
   "execution_count": 28,
   "metadata": {},
   "outputs": [
    {
     "name": "stdout",
     "output_type": "stream",
     "text": [
      "(2499, 2)\n",
      "1140\n"
     ]
    }
   ],
   "source": [
    "# DF = pd.read_csv(\"all-gists-results.csv\")\n",
    "DF = pd.read_csv(\"../../results/proprocess/all-gists-results_2500.csv\")\n",
    "print(DF.shape)\n",
    "importError_gists = DF.loc[DF['initial-eval'] == 'ImportError','id']\n",
    "# print(importError_gists)\n",
    "importError_gists = list(importError_gists)\n",
    "print(len(importError_gists))"
   ]
  },
  {
   "cell_type": "markdown",
   "metadata": {},
   "source": [
    "## Read all possible types of errors"
   ]
  },
  {
   "cell_type": "code",
   "execution_count": 4,
   "metadata": {},
   "outputs": [],
   "source": [
    "type_list = []\n",
    "with open('../../error_type.txt','r') as file:\n",
    "    for line in file:\n",
    "        line = line.rstrip('\\r\\n')\n",
    "        line = line.strip()\n",
    "        # print(line)\n",
    "        type_list.append(line)"
   ]
  },
  {
   "cell_type": "code",
   "execution_count": 5,
   "metadata": {},
   "outputs": [
    {
     "data": {
      "text/plain": [
       "(1140, 93)"
      ]
     },
     "execution_count": 5,
     "metadata": {},
     "output_type": "execute_result"
    }
   ],
   "source": [
    "len(importError_gists),len(type_list)"
   ]
  },
  {
   "cell_type": "markdown",
   "metadata": {},
   "source": [
    "## RQ1: Evaluating importError gists using Gistable command line"
   ]
  },
  {
   "cell_type": "code",
   "execution_count": null,
   "metadata": {},
   "outputs": [],
   "source": [
    "results = []\n",
    "# timeout variable\n",
    "TIMEOUT_SECONDS = 60\n",
    "for i,g in enumerate(importError_gists):\n",
    "    if i % 100 == 0:\n",
    "        print('####################################',i,'####################################')\n",
    "    found_regular_error = False \n",
    "    print(g)\n",
    "    try:\n",
    "        with timeout(seconds=TIMEOUT_SECONDS):\n",
    "            output = subprocess.getoutput('gistable run {0}'.format(g)).lower()\n",
    "            # print(output)\n",
    "            for t in type_list:\n",
    "                t = t.lower()\n",
    "                # print(t)\n",
    "                if t in output: \n",
    "                    print('output type = ',t)\n",
    "                    found_regular_error = True \n",
    "                    results.append({\n",
    "                    'id': g,\n",
    "                    'initial-eval':'importerror',\n",
    "                    'final-eval': t\n",
    "                    })\n",
    "            \n",
    "                    break\n",
    "            if not found_regular_error:\n",
    "                print('output type = other error')\n",
    "                results.append({\n",
    "                    'id': g,\n",
    "                    'initial-eval':'importerror',\n",
    "                    'final-eval':'other error'\n",
    "            })\n",
    "    except TimeoutError:\n",
    "            print('time out error')\n",
    "            results.append({\n",
    "                'id': g,\n",
    "                'initial-eval':'importerror',\n",
    "                'final-eval':'timeouterror'\n",
    "            })\n",
    "            pass\n"
   ]
  },
  {
   "cell_type": "markdown",
   "metadata": {},
   "source": [
    "## Save the results into csv"
   ]
  },
  {
   "cell_type": "code",
   "execution_count": 13,
   "metadata": {},
   "outputs": [
    {
     "name": "stdout",
     "output_type": "stream",
     "text": [
      "file has been saved\n"
     ]
    }
   ],
   "source": [
    "import csv \n",
    "# with open('importErrors-gists-results.csv', 'w') as results_file:\n",
    "# with open('importErrors-gists-results_1000.csv', 'w') as results_file:with open('importErrors-gists-results.csv', 'w') as results_file:\n",
    "with open('../../results/RQ1/RQ1_gistable_results_{0}.csv'.format(len(importError_gists)), 'w') as results_file:\n",
    "\n",
    "\n",
    "    # Row fieldnames\n",
    "    fieldnames = ['id', 'initial-eval','final-eval']\n",
    "\n",
    "    # Create dict writer\n",
    "    writer = csv.DictWriter(results_file, fieldnames=fieldnames)\n",
    "    writer.writeheader()\n",
    "    writer.writerows(results)        \n",
    "    print('file has been saved')"
   ]
  },
  {
   "cell_type": "markdown",
   "metadata": {},
   "source": [
    "## Results Evaluation"
   ]
  },
  {
   "cell_type": "markdown",
   "metadata": {},
   "source": [
    "### Num of total files has importErrors"
   ]
  },
  {
   "cell_type": "code",
   "execution_count": 22,
   "metadata": {},
   "outputs": [
    {
     "name": "stdout",
     "output_type": "stream",
     "text": [
      "In 2500 file, 1140 of file has importError. The ratio = 45.62%\n"
     ]
    }
   ],
   "source": [
    "res = len(importError_gists)/DF.shape[0]\n",
    "\n",
    "print('In 2500 file, {0} of file has importError. The ratio = {1:.2f}%'.format(len(importError_gists),res*100))\n",
    "\n"
   ]
  },
  {
   "cell_type": "markdown",
   "metadata": {},
   "source": [
    "### RQ1 Results\n",
    "\n",
    "num of file has importError has been removed\n",
    "\n",
    "num of file can run"
   ]
  },
  {
   "cell_type": "code",
   "execution_count": 23,
   "metadata": {},
   "outputs": [
    {
     "name": "stdout",
     "output_type": "stream",
     "text": [
      "829/1140 of files has no importError. The ratio = 72.72% \n",
      "227/1140 of files can run without error. The ratio = 19.91% \n"
     ]
    }
   ],
   "source": [
    "DF_new = pd.read_csv(\"../../results/RQ1/RQ1_gistable_results_{0}.csv\".format(len(importError_gists)))\n",
    "\n",
    "noimportError_count=0\n",
    "success_count = 0\n",
    "\n",
    "# count num of file has no error, and can run without error\n",
    "for error in list(DF_new['final-eval']):\n",
    "    if error != 'importerror':\n",
    "        noimportError_count+=1\n",
    "        \n",
    "    if error == 'success':\n",
    "        success_count+=1\n",
    "\n",
    "#get rid of # of other error from noimportError file\n",
    "    if error == 'other error':\n",
    "        noimportError_count-=1\n",
    "        \n",
    "print('{0}/{1} of files has no importError. The ratio = {2:.2f}% '.format(noimportError_count,len(importError_gists),noimportError_count/DF_new.shape[0]*100))\n",
    "print('{0}/{1} of files can run without error. The ratio = {2:.2f}% '.format(success_count,len(importError_gists),success_count/DF_new.shape[0]*100))\n"
   ]
  }
 ],
 "metadata": {
  "interpreter": {
   "hash": "25e6644f2bfc6915018fb0621a98c7d8608c820ae5f0fe3d382282b9263a6133"
  },
  "kernelspec": {
   "display_name": "Python 3.7.12 64-bit (conda)",
   "language": "python",
   "name": "python3"
  },
  "language_info": {
   "codemirror_mode": {
    "name": "ipython",
    "version": 3
   },
   "file_extension": ".py",
   "mimetype": "text/x-python",
   "name": "python",
   "nbconvert_exporter": "python",
   "pygments_lexer": "ipython3",
   "version": "3.7.12"
  },
  "orig_nbformat": 4
 },
 "nbformat": 4,
 "nbformat_minor": 2
}
