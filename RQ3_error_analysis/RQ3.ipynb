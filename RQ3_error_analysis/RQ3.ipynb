{
 "cells": [
  {
   "cell_type": "code",
   "execution_count": 5,
   "metadata": {},
   "outputs": [],
   "source": [
    "import pandas as pd "
   ]
  },
  {
   "cell_type": "markdown",
   "metadata": {},
   "source": [
    "### Gistable"
   ]
  },
  {
   "cell_type": "code",
   "execution_count": 6,
   "metadata": {},
   "outputs": [
    {
     "data": {
      "text/html": [
       "<div>\n",
       "<style scoped>\n",
       "    .dataframe tbody tr th:only-of-type {\n",
       "        vertical-align: middle;\n",
       "    }\n",
       "\n",
       "    .dataframe tbody tr th {\n",
       "        vertical-align: top;\n",
       "    }\n",
       "\n",
       "    .dataframe thead th {\n",
       "        text-align: right;\n",
       "    }\n",
       "</style>\n",
       "<table border=\"1\" class=\"dataframe\">\n",
       "  <thead>\n",
       "    <tr style=\"text-align: right;\">\n",
       "      <th></th>\n",
       "      <th>id</th>\n",
       "      <th>initial-eval</th>\n",
       "      <th>final-eval</th>\n",
       "    </tr>\n",
       "  </thead>\n",
       "  <tbody>\n",
       "    <tr>\n",
       "      <th>0</th>\n",
       "      <td>3797445</td>\n",
       "      <td>importerror</td>\n",
       "      <td>keyerror</td>\n",
       "    </tr>\n",
       "    <tr>\n",
       "      <th>1</th>\n",
       "      <td>4345741</td>\n",
       "      <td>importerror</td>\n",
       "      <td>success</td>\n",
       "    </tr>\n",
       "    <tr>\n",
       "      <th>2</th>\n",
       "      <td>7d2fa751b0b7af8c90e2e15a38d64c4c</td>\n",
       "      <td>importerror</td>\n",
       "      <td>success</td>\n",
       "    </tr>\n",
       "    <tr>\n",
       "      <th>4</th>\n",
       "      <td>b21e142b529a958ab6413e92bca39e17</td>\n",
       "      <td>importerror</td>\n",
       "      <td>typeerror</td>\n",
       "    </tr>\n",
       "    <tr>\n",
       "      <th>5</th>\n",
       "      <td>3965052</td>\n",
       "      <td>importerror</td>\n",
       "      <td>success</td>\n",
       "    </tr>\n",
       "    <tr>\n",
       "      <th>...</th>\n",
       "      <td>...</td>\n",
       "      <td>...</td>\n",
       "      <td>...</td>\n",
       "    </tr>\n",
       "    <tr>\n",
       "      <th>1134</th>\n",
       "      <td>0daed253f4c4ebce25c3fdac8f3cf0d3</td>\n",
       "      <td>importerror</td>\n",
       "      <td>indexerror</td>\n",
       "    </tr>\n",
       "    <tr>\n",
       "      <th>1135</th>\n",
       "      <td>3862093af36a1aeb8104</td>\n",
       "      <td>importerror</td>\n",
       "      <td>operationalerror</td>\n",
       "    </tr>\n",
       "    <tr>\n",
       "      <th>1136</th>\n",
       "      <td>4602717</td>\n",
       "      <td>importerror</td>\n",
       "      <td>success</td>\n",
       "    </tr>\n",
       "    <tr>\n",
       "      <th>1137</th>\n",
       "      <td>4541209</td>\n",
       "      <td>importerror</td>\n",
       "      <td>timeouterror</td>\n",
       "    </tr>\n",
       "    <tr>\n",
       "      <th>1139</th>\n",
       "      <td>2862667822af7fae8b55682faef029a7</td>\n",
       "      <td>importerror</td>\n",
       "      <td>runtimeerror</td>\n",
       "    </tr>\n",
       "  </tbody>\n",
       "</table>\n",
       "<p>829 rows × 3 columns</p>\n",
       "</div>"
      ],
      "text/plain": [
       "                                    id initial-eval        final-eval\n",
       "0                              3797445  importerror          keyerror\n",
       "1                              4345741  importerror           success\n",
       "2     7d2fa751b0b7af8c90e2e15a38d64c4c  importerror           success\n",
       "4     b21e142b529a958ab6413e92bca39e17  importerror         typeerror\n",
       "5                              3965052  importerror           success\n",
       "...                                ...          ...               ...\n",
       "1134  0daed253f4c4ebce25c3fdac8f3cf0d3  importerror        indexerror\n",
       "1135              3862093af36a1aeb8104  importerror  operationalerror\n",
       "1136                           4602717  importerror           success\n",
       "1137                           4541209  importerror      timeouterror\n",
       "1139  2862667822af7fae8b55682faef029a7  importerror      runtimeerror\n",
       "\n",
       "[829 rows x 3 columns]"
      ]
     },
     "execution_count": 6,
     "metadata": {},
     "output_type": "execute_result"
    }
   ],
   "source": [
    "# read Gistable results\n",
    "\n",
    "gistable_DF= pd.read_csv('../results/RQ1/RQ1_gistable_results_1140.csv')\n",
    "\n",
    "gistable_DF = gistable_DF[gistable_DF['final-eval'] != 'importerror']\n",
    "gistable_DF"
   ]
  },
  {
   "cell_type": "code",
   "execution_count": 7,
   "metadata": {},
   "outputs": [
    {
     "data": {
      "text/plain": [
       "829"
      ]
     },
     "execution_count": 7,
     "metadata": {},
     "output_type": "execute_result"
    }
   ],
   "source": [
    "gistable_finaleval = list(gistable_DF['final-eval'])\n",
    "len(gistable_finaleval)"
   ]
  },
  {
   "cell_type": "code",
   "execution_count": 8,
   "metadata": {},
   "outputs": [
    {
     "data": {
      "text/plain": [
       "{'success': 227,\n",
       " 'timeouterror': 127,\n",
       " 'attributeerror': 51,\n",
       " 'nameerror': 49,\n",
       " 'syntaxerror': 45,\n",
       " 'indexerror': 44,\n",
       " 'ioerror': 41,\n",
       " 'typeerror': 30,\n",
       " 'eoferror': 25,\n",
       " 'valueerror': 21,\n",
       " 'keyerror': 18,\n",
       " 'connectionerror': 17,\n",
       " 'webdriverexception': 15,\n",
       " 'tclerror': 12,\n",
       " 'deprecationwarning': 11,\n",
       " 'urlerror': 10,\n",
       " 'noauthhandlerfound': 10,\n",
       " 'oserror': 9,\n",
       " 'sslerror': 8,\n",
       " 'apierror': 6,\n",
       " 'runtimeerror': 6,\n",
       " 'operationalerror': 5,\n",
       " 'unicodeencodeerror': 4,\n",
       " 'httperror': 4,\n",
       " 'nocredentialserror': 4,\n",
       " 'tweeperror': 3,\n",
       " 'featurenotfound': 2,\n",
       " 'gaierror': 2,\n",
       " 'httperror_seek_wrapper': 2,\n",
       " 'obsoleteexception': 2,\n",
       " 'calledprocesserror': 1,\n",
       " 'requesterror': 1,\n",
       " 'oautherror': 1,\n",
       " 'addressvalueerror': 1,\n",
       " 'confignotfound': 1,\n",
       " 'certificateerror': 1,\n",
       " 'twitterhttperror': 1,\n",
       " 'botoservererror': 1,\n",
       " 'ttransportexception': 1,\n",
       " 'bucketnotfounderror': 1,\n",
       " 'edamuserexception': 1,\n",
       " 'systemexit': 1,\n",
       " 'browsercookieerror': 1,\n",
       " 'sqserror': 1,\n",
       " 'zerodivisionerror': 1,\n",
       " 'odbcnolibrary': 1,\n",
       " 'transmissionerror': 1,\n",
       " 'clienterror': 1,\n",
       " 'responsenotready': 1}"
      ]
     },
     "execution_count": 8,
     "metadata": {},
     "output_type": "execute_result"
    }
   ],
   "source": [
    "import collections\n",
    "gistable_result = dict(collections.Counter(gistable_finaleval).most_common())\n",
    "gistable_result"
   ]
  },
  {
   "cell_type": "code",
   "execution_count": 9,
   "metadata": {},
   "outputs": [],
   "source": [
    "with open('../results/RQ3/RQ3_gistable_errorcount_1140.txt', 'w') as results_file:\n",
    "    results_file.write(str(gistable_result))"
   ]
  },
  {
   "cell_type": "markdown",
   "metadata": {},
   "source": [
    "### DockerizeMe "
   ]
  },
  {
   "cell_type": "code",
   "execution_count": 10,
   "metadata": {},
   "outputs": [
    {
     "data": {
      "text/plain": [
       "772"
      ]
     },
     "execution_count": 10,
     "metadata": {},
     "output_type": "execute_result"
    }
   ],
   "source": [
    "dockerizeme_DF= pd.read_csv('../results/RQ2/RQ2_dockerizeme_results_1140.csv')\n",
    "dockerizeme_DF = dockerizeme_DF[dockerizeme_DF['final-eval'] != 'importerror']\n",
    "\n",
    "dockerizeme_finaleval = list(dockerizeme_DF['final-eval'])\n",
    "\n",
    "len(dockerizeme_finaleval)"
   ]
  },
  {
   "cell_type": "code",
   "execution_count": 11,
   "metadata": {},
   "outputs": [
    {
     "data": {
      "text/plain": [
       "{'success': 228,\n",
       " 'timeouterror': 99,\n",
       " 'attributeerror': 51,\n",
       " 'nameerror': 49,\n",
       " 'indexerror': 44,\n",
       " 'ioerror': 40,\n",
       " 'syntaxerror': 37,\n",
       " 'eoferror': 23,\n",
       " 'typeerror': 21,\n",
       " 'keyerror': 17,\n",
       " 'connectionerror': 17,\n",
       " 'webdriverexception': 15,\n",
       " 'valueerror': 14,\n",
       " 'deprecationwarning': 11,\n",
       " 'tclerror': 11,\n",
       " 'urlerror': 10,\n",
       " 'noauthhandlerfound': 10,\n",
       " 'oserror': 9,\n",
       " 'httperror': 7,\n",
       " 'sslerror': 7,\n",
       " 'apierror': 6,\n",
       " 'operationalerror': 5,\n",
       " 'unicodeencodeerror': 4,\n",
       " 'nocredentialserror': 4,\n",
       " 'tweeperror': 3,\n",
       " 'runtimeerror': 3,\n",
       " 'featurenotfound': 2,\n",
       " 'gaierror': 2,\n",
       " 'httperror_seek_wrapper': 2,\n",
       " 'obsoleteexception': 2,\n",
       " 'calledprocesserror': 1,\n",
       " 'requesterror': 1,\n",
       " 'oautherror': 1,\n",
       " 'addressvalueerror': 1,\n",
       " 'confignotfound': 1,\n",
       " 'certificateerror': 1,\n",
       " 'twitterhttperror': 1,\n",
       " 'botoservererror': 1,\n",
       " 'ttransportexception': 1,\n",
       " 'bucketnotfounderror': 1,\n",
       " 'edamuserexception': 1,\n",
       " 'systemexit': 1,\n",
       " 'browsercookieerror': 1,\n",
       " 'sqserror': 1,\n",
       " 'zerodivisionerror': 1,\n",
       " 'odbcnolibrary': 1,\n",
       " 'transmissionerror': 1,\n",
       " 'clienterror': 1,\n",
       " 'responsenotready': 1}"
      ]
     },
     "execution_count": 11,
     "metadata": {},
     "output_type": "execute_result"
    }
   ],
   "source": [
    "from collections import Counter\n",
    "dockerizeme_result = dict(collections.Counter(dockerizeme_finaleval).most_common())\n",
    "dockerizeme_result"
   ]
  },
  {
   "cell_type": "code",
   "execution_count": 12,
   "metadata": {},
   "outputs": [],
   "source": [
    "with open('../results/RQ3/RQ3_dockerizeme_errorcount_2500.txt', 'w') as results_file:\n",
    "    results_file.write(str(dockerizeme_result))"
   ]
  },
  {
   "cell_type": "code",
   "execution_count": null,
   "metadata": {},
   "outputs": [],
   "source": []
  }
 ],
 "metadata": {
  "interpreter": {
   "hash": "25e6644f2bfc6915018fb0621a98c7d8608c820ae5f0fe3d382282b9263a6133"
  },
  "kernelspec": {
   "display_name": "Python 3.7.12 64-bit (conda)",
   "language": "python",
   "name": "python3"
  },
  "language_info": {
   "codemirror_mode": {
    "name": "ipython",
    "version": 3
   },
   "file_extension": ".py",
   "mimetype": "text/x-python",
   "name": "python",
   "nbconvert_exporter": "python",
   "pygments_lexer": "ipython3",
   "version": "3.7.12"
  },
  "orig_nbformat": 4
 },
 "nbformat": 4,
 "nbformat_minor": 2
}
